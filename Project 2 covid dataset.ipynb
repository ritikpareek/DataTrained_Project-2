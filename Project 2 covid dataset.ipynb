{
 "cells": [
  {
   "cell_type": "markdown",
   "metadata": {},
   "source": [
    "# Covid Dataset"
   ]
  },
  {
   "cell_type": "code",
   "execution_count": 77,
   "metadata": {},
   "outputs": [],
   "source": [
    "import numpy as np\n",
    "import pandas as pd\n",
    "import matplotlib.pyplot as plt\n",
    "%matplotlib inline \n",
    "import seaborn as sns\n",
    "import warnings\n",
    "warnings.filterwarnings('ignore')"
   ]
  },
  {
   "cell_type": "code",
   "execution_count": 78,
   "metadata": {},
   "outputs": [],
   "source": [
    "ds=pd.read_csv('covid.csv',parse_dates=['Date'])"
   ]
  },
  {
   "cell_type": "code",
   "execution_count": 79,
   "metadata": {},
   "outputs": [],
   "source": [
    "df=pd.DataFrame(ds)"
   ]
  },
  {
   "cell_type": "code",
   "execution_count": 80,
   "metadata": {},
   "outputs": [
    {
     "data": {
      "text/html": [
       "<div>\n",
       "<style scoped>\n",
       "    .dataframe tbody tr th:only-of-type {\n",
       "        vertical-align: middle;\n",
       "    }\n",
       "\n",
       "    .dataframe tbody tr th {\n",
       "        vertical-align: top;\n",
       "    }\n",
       "\n",
       "    .dataframe thead th {\n",
       "        text-align: right;\n",
       "    }\n",
       "</style>\n",
       "<table border=\"1\" class=\"dataframe\">\n",
       "  <thead>\n",
       "    <tr style=\"text-align: right;\">\n",
       "      <th></th>\n",
       "      <th>Date</th>\n",
       "      <th>Country</th>\n",
       "      <th>Confirmed</th>\n",
       "      <th>Recovered</th>\n",
       "      <th>Deaths</th>\n",
       "    </tr>\n",
       "  </thead>\n",
       "  <tbody>\n",
       "    <tr>\n",
       "      <th>0</th>\n",
       "      <td>2020-01-22</td>\n",
       "      <td>Afghanistan</td>\n",
       "      <td>0</td>\n",
       "      <td>0</td>\n",
       "      <td>0</td>\n",
       "    </tr>\n",
       "    <tr>\n",
       "      <th>1</th>\n",
       "      <td>2020-01-22</td>\n",
       "      <td>Albania</td>\n",
       "      <td>0</td>\n",
       "      <td>0</td>\n",
       "      <td>0</td>\n",
       "    </tr>\n",
       "    <tr>\n",
       "      <th>2</th>\n",
       "      <td>2020-01-22</td>\n",
       "      <td>Algeria</td>\n",
       "      <td>0</td>\n",
       "      <td>0</td>\n",
       "      <td>0</td>\n",
       "    </tr>\n",
       "    <tr>\n",
       "      <th>3</th>\n",
       "      <td>2020-01-22</td>\n",
       "      <td>Andorra</td>\n",
       "      <td>0</td>\n",
       "      <td>0</td>\n",
       "      <td>0</td>\n",
       "    </tr>\n",
       "    <tr>\n",
       "      <th>4</th>\n",
       "      <td>2020-01-22</td>\n",
       "      <td>Angola</td>\n",
       "      <td>0</td>\n",
       "      <td>0</td>\n",
       "      <td>0</td>\n",
       "    </tr>\n",
       "  </tbody>\n",
       "</table>\n",
       "</div>"
      ],
      "text/plain": [
       "        Date      Country  Confirmed  Recovered  Deaths\n",
       "0 2020-01-22  Afghanistan          0          0       0\n",
       "1 2020-01-22      Albania          0          0       0\n",
       "2 2020-01-22      Algeria          0          0       0\n",
       "3 2020-01-22      Andorra          0          0       0\n",
       "4 2020-01-22       Angola          0          0       0"
      ]
     },
     "execution_count": 80,
     "metadata": {},
     "output_type": "execute_result"
    }
   ],
   "source": [
    "df.head()"
   ]
  },
  {
   "cell_type": "code",
   "execution_count": 81,
   "metadata": {},
   "outputs": [
    {
     "data": {
      "text/plain": [
       "(23688, 5)"
      ]
     },
     "execution_count": 81,
     "metadata": {},
     "output_type": "execute_result"
    }
   ],
   "source": [
    "df.shape"
   ]
  },
  {
   "cell_type": "code",
   "execution_count": 82,
   "metadata": {},
   "outputs": [
    {
     "data": {
      "text/html": [
       "<div>\n",
       "<style scoped>\n",
       "    .dataframe tbody tr th:only-of-type {\n",
       "        vertical-align: middle;\n",
       "    }\n",
       "\n",
       "    .dataframe tbody tr th {\n",
       "        vertical-align: top;\n",
       "    }\n",
       "\n",
       "    .dataframe thead th {\n",
       "        text-align: right;\n",
       "    }\n",
       "</style>\n",
       "<table border=\"1\" class=\"dataframe\">\n",
       "  <thead>\n",
       "    <tr style=\"text-align: right;\">\n",
       "      <th></th>\n",
       "      <th>Date</th>\n",
       "      <th>Country</th>\n",
       "      <th>Confirmed</th>\n",
       "      <th>Recovered</th>\n",
       "      <th>Deaths</th>\n",
       "    </tr>\n",
       "  </thead>\n",
       "  <tbody>\n",
       "    <tr>\n",
       "      <th>23683</th>\n",
       "      <td>2020-05-26</td>\n",
       "      <td>West Bank and Gaza</td>\n",
       "      <td>429</td>\n",
       "      <td>365</td>\n",
       "      <td>3</td>\n",
       "    </tr>\n",
       "    <tr>\n",
       "      <th>23684</th>\n",
       "      <td>2020-05-26</td>\n",
       "      <td>Western Sahara</td>\n",
       "      <td>9</td>\n",
       "      <td>6</td>\n",
       "      <td>1</td>\n",
       "    </tr>\n",
       "    <tr>\n",
       "      <th>23685</th>\n",
       "      <td>2020-05-26</td>\n",
       "      <td>Yemen</td>\n",
       "      <td>249</td>\n",
       "      <td>10</td>\n",
       "      <td>49</td>\n",
       "    </tr>\n",
       "    <tr>\n",
       "      <th>23686</th>\n",
       "      <td>2020-05-26</td>\n",
       "      <td>Zambia</td>\n",
       "      <td>920</td>\n",
       "      <td>336</td>\n",
       "      <td>7</td>\n",
       "    </tr>\n",
       "    <tr>\n",
       "      <th>23687</th>\n",
       "      <td>2020-05-26</td>\n",
       "      <td>Zimbabwe</td>\n",
       "      <td>56</td>\n",
       "      <td>25</td>\n",
       "      <td>4</td>\n",
       "    </tr>\n",
       "  </tbody>\n",
       "</table>\n",
       "</div>"
      ],
      "text/plain": [
       "            Date             Country  Confirmed  Recovered  Deaths\n",
       "23683 2020-05-26  West Bank and Gaza        429        365       3\n",
       "23684 2020-05-26      Western Sahara          9          6       1\n",
       "23685 2020-05-26               Yemen        249         10      49\n",
       "23686 2020-05-26              Zambia        920        336       7\n",
       "23687 2020-05-26            Zimbabwe         56         25       4"
      ]
     },
     "execution_count": 82,
     "metadata": {},
     "output_type": "execute_result"
    }
   ],
   "source": [
    "df.tail()"
   ]
  },
  {
   "cell_type": "code",
   "execution_count": 83,
   "metadata": {},
   "outputs": [
    {
     "name": "stdout",
     "output_type": "stream",
     "text": [
      "<class 'pandas.core.frame.DataFrame'>\n",
      "RangeIndex: 23688 entries, 0 to 23687\n",
      "Data columns (total 5 columns):\n",
      " #   Column     Non-Null Count  Dtype         \n",
      "---  ------     --------------  -----         \n",
      " 0   Date       23688 non-null  datetime64[ns]\n",
      " 1   Country    23688 non-null  object        \n",
      " 2   Confirmed  23688 non-null  int64         \n",
      " 3   Recovered  23688 non-null  int64         \n",
      " 4   Deaths     23688 non-null  int64         \n",
      "dtypes: datetime64[ns](1), int64(3), object(1)\n",
      "memory usage: 925.4+ KB\n"
     ]
    }
   ],
   "source": [
    "df.info()"
   ]
  },
  {
   "cell_type": "code",
   "execution_count": 84,
   "metadata": {},
   "outputs": [
    {
     "data": {
      "text/plain": [
       "array(['Afghanistan', 'Albania', 'Algeria', 'Andorra', 'Angola',\n",
       "       'Antigua and Barbuda', 'Argentina', 'Armenia', 'Australia',\n",
       "       'Austria', 'Azerbaijan', 'Bahamas', 'Bahrain', 'Bangladesh',\n",
       "       'Barbados', 'Belarus', 'Belgium', 'Belize', 'Benin', 'Bhutan',\n",
       "       'Bolivia', 'Bosnia and Herzegovina', 'Botswana', 'Brazil',\n",
       "       'Brunei', 'Bulgaria', 'Burkina Faso', 'Burma', 'Burundi',\n",
       "       'Cabo Verde', 'Cambodia', 'Cameroon', 'Canada',\n",
       "       'Central African Republic', 'Chad', 'Chile', 'China', 'Colombia',\n",
       "       'Comoros', 'Congo (Brazzaville)', 'Congo (Kinshasa)', 'Costa Rica',\n",
       "       \"Cote d'Ivoire\", 'Croatia', 'Cuba', 'Cyprus', 'Czechia', 'Denmark',\n",
       "       'Diamond Princess', 'Djibouti', 'Dominica', 'Dominican Republic',\n",
       "       'Ecuador', 'Egypt', 'El Salvador', 'Equatorial Guinea', 'Eritrea',\n",
       "       'Estonia', 'Eswatini', 'Ethiopia', 'Fiji', 'Finland', 'France',\n",
       "       'Gabon', 'Gambia', 'Georgia', 'Germany', 'Ghana', 'Greece',\n",
       "       'Grenada', 'Guatemala', 'Guinea', 'Guinea-Bissau', 'Guyana',\n",
       "       'Haiti', 'Holy See', 'Honduras', 'Hungary', 'Iceland', 'India',\n",
       "       'Indonesia', 'Iran', 'Iraq', 'Ireland', 'Israel', 'Italy',\n",
       "       'Jamaica', 'Japan', 'Jordan', 'Kazakhstan', 'Kenya',\n",
       "       'Korea, South', 'Kosovo', 'Kuwait', 'Kyrgyzstan', 'Laos', 'Latvia',\n",
       "       'Lebanon', 'Lesotho', 'Liberia', 'Libya', 'Liechtenstein',\n",
       "       'Lithuania', 'Luxembourg', 'MS Zaandam', 'Madagascar', 'Malawi',\n",
       "       'Malaysia', 'Maldives', 'Mali', 'Malta', 'Mauritania', 'Mauritius',\n",
       "       'Mexico', 'Moldova', 'Monaco', 'Mongolia', 'Montenegro', 'Morocco',\n",
       "       'Mozambique', 'Namibia', 'Nepal', 'Netherlands', 'New Zealand',\n",
       "       'Nicaragua', 'Niger', 'Nigeria', 'North Macedonia', 'Norway',\n",
       "       'Oman', 'Pakistan', 'Panama', 'Papua New Guinea', 'Paraguay',\n",
       "       'Peru', 'Philippines', 'Poland', 'Portugal', 'Qatar', 'Romania',\n",
       "       'Russia', 'Rwanda', 'Saint Kitts and Nevis', 'Saint Lucia',\n",
       "       'Saint Vincent and the Grenadines', 'San Marino',\n",
       "       'Sao Tome and Principe', 'Saudi Arabia', 'Senegal', 'Serbia',\n",
       "       'Seychelles', 'Sierra Leone', 'Singapore', 'Slovakia', 'Slovenia',\n",
       "       'Somalia', 'South Africa', 'South Sudan', 'Spain', 'Sri Lanka',\n",
       "       'Sudan', 'Suriname', 'Sweden', 'Switzerland', 'Syria', 'Taiwan*',\n",
       "       'Tajikistan', 'Tanzania', 'Thailand', 'Timor-Leste', 'Togo',\n",
       "       'Trinidad and Tobago', 'Tunisia', 'Turkey', 'US', 'Uganda',\n",
       "       'Ukraine', 'United Arab Emirates', 'United Kingdom', 'Uruguay',\n",
       "       'Uzbekistan', 'Venezuela', 'Vietnam', 'West Bank and Gaza',\n",
       "       'Western Sahara', 'Yemen', 'Zambia', 'Zimbabwe'], dtype=object)"
      ]
     },
     "execution_count": 84,
     "metadata": {},
     "output_type": "execute_result"
    }
   ],
   "source": [
    "df.Country.unique()"
   ]
  },
  {
   "cell_type": "code",
   "execution_count": 85,
   "metadata": {},
   "outputs": [],
   "source": [
    "country=df.groupby('Country').sum()"
   ]
  },
  {
   "cell_type": "code",
   "execution_count": 86,
   "metadata": {},
   "outputs": [
    {
     "data": {
      "text/html": [
       "<div>\n",
       "<style scoped>\n",
       "    .dataframe tbody tr th:only-of-type {\n",
       "        vertical-align: middle;\n",
       "    }\n",
       "\n",
       "    .dataframe tbody tr th {\n",
       "        vertical-align: top;\n",
       "    }\n",
       "\n",
       "    .dataframe thead th {\n",
       "        text-align: right;\n",
       "    }\n",
       "</style>\n",
       "<table border=\"1\" class=\"dataframe\">\n",
       "  <thead>\n",
       "    <tr style=\"text-align: right;\">\n",
       "      <th></th>\n",
       "      <th>Confirmed</th>\n",
       "      <th>Recovered</th>\n",
       "      <th>Deaths</th>\n",
       "    </tr>\n",
       "    <tr>\n",
       "      <th>Country</th>\n",
       "      <th></th>\n",
       "      <th></th>\n",
       "      <th></th>\n",
       "    </tr>\n",
       "  </thead>\n",
       "  <tbody>\n",
       "    <tr>\n",
       "      <th>US</th>\n",
       "      <td>57098767</td>\n",
       "      <td>8428678</td>\n",
       "      <td>3221969</td>\n",
       "    </tr>\n",
       "    <tr>\n",
       "      <th>Italy</th>\n",
       "      <td>11896347</td>\n",
       "      <td>4354815</td>\n",
       "      <td>1568276</td>\n",
       "    </tr>\n",
       "    <tr>\n",
       "      <th>United Kingdom</th>\n",
       "      <td>9150537</td>\n",
       "      <td>43829</td>\n",
       "      <td>1329006</td>\n",
       "    </tr>\n",
       "    <tr>\n",
       "      <th>Spain</th>\n",
       "      <td>11890691</td>\n",
       "      <td>5770271</td>\n",
       "      <td>1302010</td>\n",
       "    </tr>\n",
       "    <tr>\n",
       "      <th>France</th>\n",
       "      <td>8746538</td>\n",
       "      <td>2519190</td>\n",
       "      <td>1209634</td>\n",
       "    </tr>\n",
       "    <tr>\n",
       "      <th>...</th>\n",
       "      <td>...</td>\n",
       "      <td>...</td>\n",
       "      <td>...</td>\n",
       "    </tr>\n",
       "    <tr>\n",
       "      <th>Saint Vincent and the Grenadines</th>\n",
       "      <td>793</td>\n",
       "      <td>379</td>\n",
       "      <td>0</td>\n",
       "    </tr>\n",
       "    <tr>\n",
       "      <th>Fiji</th>\n",
       "      <td>979</td>\n",
       "      <td>476</td>\n",
       "      <td>0</td>\n",
       "    </tr>\n",
       "    <tr>\n",
       "      <th>Cambodia</th>\n",
       "      <td>8024</td>\n",
       "      <td>5888</td>\n",
       "      <td>0</td>\n",
       "    </tr>\n",
       "    <tr>\n",
       "      <th>Seychelles</th>\n",
       "      <td>722</td>\n",
       "      <td>321</td>\n",
       "      <td>0</td>\n",
       "    </tr>\n",
       "    <tr>\n",
       "      <th>Mongolia</th>\n",
       "      <td>3197</td>\n",
       "      <td>679</td>\n",
       "      <td>0</td>\n",
       "    </tr>\n",
       "  </tbody>\n",
       "</table>\n",
       "<p>188 rows × 3 columns</p>\n",
       "</div>"
      ],
      "text/plain": [
       "                                  Confirmed  Recovered   Deaths\n",
       "Country                                                        \n",
       "US                                 57098767    8428678  3221969\n",
       "Italy                              11896347    4354815  1568276\n",
       "United Kingdom                      9150537      43829  1329006\n",
       "Spain                              11890691    5770271  1302010\n",
       "France                              8746538    2519190  1209634\n",
       "...                                     ...        ...      ...\n",
       "Saint Vincent and the Grenadines        793        379        0\n",
       "Fiji                                    979        476        0\n",
       "Cambodia                               8024       5888        0\n",
       "Seychelles                              722        321        0\n",
       "Mongolia                               3197        679        0\n",
       "\n",
       "[188 rows x 3 columns]"
      ]
     },
     "execution_count": 86,
     "metadata": {},
     "output_type": "execute_result"
    }
   ],
   "source": [
    "country.sort_values('Deaths',ascending=False)"
   ]
  },
  {
   "cell_type": "markdown",
   "metadata": {},
   "source": [
    " The highest death are found in US. italy,UK,Spain and france also has higher death "
   ]
  },
  {
   "cell_type": "code",
   "execution_count": 87,
   "metadata": {},
   "outputs": [
    {
     "data": {
      "text/html": [
       "<div>\n",
       "<style scoped>\n",
       "    .dataframe tbody tr th:only-of-type {\n",
       "        vertical-align: middle;\n",
       "    }\n",
       "\n",
       "    .dataframe tbody tr th {\n",
       "        vertical-align: top;\n",
       "    }\n",
       "\n",
       "    .dataframe thead th {\n",
       "        text-align: right;\n",
       "    }\n",
       "</style>\n",
       "<table border=\"1\" class=\"dataframe\">\n",
       "  <thead>\n",
       "    <tr style=\"text-align: right;\">\n",
       "      <th></th>\n",
       "      <th>Confirmed</th>\n",
       "      <th>Recovered</th>\n",
       "      <th>Deaths</th>\n",
       "    </tr>\n",
       "    <tr>\n",
       "      <th>Country</th>\n",
       "      <th></th>\n",
       "      <th></th>\n",
       "      <th></th>\n",
       "    </tr>\n",
       "  </thead>\n",
       "  <tbody>\n",
       "    <tr>\n",
       "      <th>US</th>\n",
       "      <td>57098767</td>\n",
       "      <td>8428678</td>\n",
       "      <td>3221969</td>\n",
       "    </tr>\n",
       "    <tr>\n",
       "      <th>Italy</th>\n",
       "      <td>11896347</td>\n",
       "      <td>4354815</td>\n",
       "      <td>1568276</td>\n",
       "    </tr>\n",
       "    <tr>\n",
       "      <th>Spain</th>\n",
       "      <td>11890691</td>\n",
       "      <td>5770271</td>\n",
       "      <td>1302010</td>\n",
       "    </tr>\n",
       "    <tr>\n",
       "      <th>United Kingdom</th>\n",
       "      <td>9150537</td>\n",
       "      <td>43829</td>\n",
       "      <td>1329006</td>\n",
       "    </tr>\n",
       "    <tr>\n",
       "      <th>Germany</th>\n",
       "      <td>9046257</td>\n",
       "      <td>6102898</td>\n",
       "      <td>319666</td>\n",
       "    </tr>\n",
       "    <tr>\n",
       "      <th>...</th>\n",
       "      <td>...</td>\n",
       "      <td>...</td>\n",
       "      <td>...</td>\n",
       "    </tr>\n",
       "    <tr>\n",
       "      <th>Bhutan</th>\n",
       "      <td>608</td>\n",
       "      <td>209</td>\n",
       "      <td>0</td>\n",
       "    </tr>\n",
       "    <tr>\n",
       "      <th>MS Zaandam</th>\n",
       "      <td>512</td>\n",
       "      <td>0</td>\n",
       "      <td>112</td>\n",
       "    </tr>\n",
       "    <tr>\n",
       "      <th>Papua New Guinea</th>\n",
       "      <td>359</td>\n",
       "      <td>184</td>\n",
       "      <td>0</td>\n",
       "    </tr>\n",
       "    <tr>\n",
       "      <th>Western Sahara</th>\n",
       "      <td>307</td>\n",
       "      <td>186</td>\n",
       "      <td>1</td>\n",
       "    </tr>\n",
       "    <tr>\n",
       "      <th>Lesotho</th>\n",
       "      <td>19</td>\n",
       "      <td>0</td>\n",
       "      <td>0</td>\n",
       "    </tr>\n",
       "  </tbody>\n",
       "</table>\n",
       "<p>188 rows × 3 columns</p>\n",
       "</div>"
      ],
      "text/plain": [
       "                  Confirmed  Recovered   Deaths\n",
       "Country                                        \n",
       "US                 57098767    8428678  3221969\n",
       "Italy              11896347    4354815  1568276\n",
       "Spain              11890691    5770271  1302010\n",
       "United Kingdom      9150537      43829  1329006\n",
       "Germany             9046257    6102898   319666\n",
       "...                     ...        ...      ...\n",
       "Bhutan                  608        209        0\n",
       "MS Zaandam              512          0      112\n",
       "Papua New Guinea        359        184        0\n",
       "Western Sahara          307        186        1\n",
       "Lesotho                  19          0        0\n",
       "\n",
       "[188 rows x 3 columns]"
      ]
     },
     "execution_count": 87,
     "metadata": {},
     "output_type": "execute_result"
    }
   ],
   "source": [
    "country.sort_values('Confirmed',ascending=False)"
   ]
  },
  {
   "cell_type": "markdown",
   "metadata": {},
   "source": [
    "Highest cases are found in US"
   ]
  },
  {
   "cell_type": "code",
   "execution_count": 89,
   "metadata": {},
   "outputs": [],
   "source": [
    "df_month=pd.DataFrame(df)"
   ]
  },
  {
   "cell_type": "code",
   "execution_count": 94,
   "metadata": {},
   "outputs": [],
   "source": [
    "df_month['month']=df['Date'].dt.month_name()\n",
    "df_month[['confirm','recover','death']]=df[['Confirmed','Recovered','Deaths']]"
   ]
  },
  {
   "cell_type": "code",
   "execution_count": 99,
   "metadata": {},
   "outputs": [
    {
     "data": {
      "text/html": [
       "<div>\n",
       "<style scoped>\n",
       "    .dataframe tbody tr th:only-of-type {\n",
       "        vertical-align: middle;\n",
       "    }\n",
       "\n",
       "    .dataframe tbody tr th {\n",
       "        vertical-align: top;\n",
       "    }\n",
       "\n",
       "    .dataframe thead th {\n",
       "        text-align: right;\n",
       "    }\n",
       "</style>\n",
       "<table border=\"1\" class=\"dataframe\">\n",
       "  <thead>\n",
       "    <tr style=\"text-align: right;\">\n",
       "      <th></th>\n",
       "      <th>confirm</th>\n",
       "      <th>recover</th>\n",
       "      <th>death</th>\n",
       "    </tr>\n",
       "    <tr>\n",
       "      <th>month</th>\n",
       "      <th></th>\n",
       "      <th></th>\n",
       "      <th></th>\n",
       "    </tr>\n",
       "  </thead>\n",
       "  <tbody>\n",
       "    <tr>\n",
       "      <th>May</th>\n",
       "      <td>115121451</td>\n",
       "      <td>41747602</td>\n",
       "      <td>7746343</td>\n",
       "    </tr>\n",
       "    <tr>\n",
       "      <th>April</th>\n",
       "      <td>63046693</td>\n",
       "      <td>16322390</td>\n",
       "      <td>4291044</td>\n",
       "    </tr>\n",
       "    <tr>\n",
       "      <th>March</th>\n",
       "      <td>8899917</td>\n",
       "      <td>2706089</td>\n",
       "      <td>396863</td>\n",
       "    </tr>\n",
       "    <tr>\n",
       "      <th>February</th>\n",
       "      <td>1671783</td>\n",
       "      <td>380794</td>\n",
       "      <td>46898</td>\n",
       "    </tr>\n",
       "    <tr>\n",
       "      <th>January</th>\n",
       "      <td>38534</td>\n",
       "      <td>844</td>\n",
       "      <td>889</td>\n",
       "    </tr>\n",
       "  </tbody>\n",
       "</table>\n",
       "</div>"
      ],
      "text/plain": [
       "            confirm   recover    death\n",
       "month                                 \n",
       "May       115121451  41747602  7746343\n",
       "April      63046693  16322390  4291044\n",
       "March       8899917   2706089   396863\n",
       "February    1671783    380794    46898\n",
       "January       38534       844      889"
      ]
     },
     "execution_count": 99,
     "metadata": {},
     "output_type": "execute_result"
    }
   ],
   "source": [
    "df_month.groupby('month').sum().sort_values('confirm',ascending=False)"
   ]
  },
  {
   "cell_type": "markdown",
   "metadata": {},
   "source": [
    "The highest Cases are found in the month of May"
   ]
  },
  {
   "cell_type": "code",
   "execution_count": 12,
   "metadata": {},
   "outputs": [],
   "source": [
    "df.drop(['Date','Country'],axis=1,inplace=True)"
   ]
  },
  {
   "cell_type": "code",
   "execution_count": 13,
   "metadata": {},
   "outputs": [
    {
     "data": {
      "text/html": [
       "<div>\n",
       "<style scoped>\n",
       "    .dataframe tbody tr th:only-of-type {\n",
       "        vertical-align: middle;\n",
       "    }\n",
       "\n",
       "    .dataframe tbody tr th {\n",
       "        vertical-align: top;\n",
       "    }\n",
       "\n",
       "    .dataframe thead th {\n",
       "        text-align: right;\n",
       "    }\n",
       "</style>\n",
       "<table border=\"1\" class=\"dataframe\">\n",
       "  <thead>\n",
       "    <tr style=\"text-align: right;\">\n",
       "      <th></th>\n",
       "      <th>Confirmed</th>\n",
       "      <th>Recovered</th>\n",
       "      <th>Deaths</th>\n",
       "    </tr>\n",
       "  </thead>\n",
       "  <tbody>\n",
       "    <tr>\n",
       "      <th>0</th>\n",
       "      <td>0</td>\n",
       "      <td>0</td>\n",
       "      <td>0</td>\n",
       "    </tr>\n",
       "    <tr>\n",
       "      <th>1</th>\n",
       "      <td>0</td>\n",
       "      <td>0</td>\n",
       "      <td>0</td>\n",
       "    </tr>\n",
       "    <tr>\n",
       "      <th>2</th>\n",
       "      <td>0</td>\n",
       "      <td>0</td>\n",
       "      <td>0</td>\n",
       "    </tr>\n",
       "    <tr>\n",
       "      <th>3</th>\n",
       "      <td>0</td>\n",
       "      <td>0</td>\n",
       "      <td>0</td>\n",
       "    </tr>\n",
       "    <tr>\n",
       "      <th>4</th>\n",
       "      <td>0</td>\n",
       "      <td>0</td>\n",
       "      <td>0</td>\n",
       "    </tr>\n",
       "  </tbody>\n",
       "</table>\n",
       "</div>"
      ],
      "text/plain": [
       "   Confirmed  Recovered  Deaths\n",
       "0          0          0       0\n",
       "1          0          0       0\n",
       "2          0          0       0\n",
       "3          0          0       0\n",
       "4          0          0       0"
      ]
     },
     "execution_count": 13,
     "metadata": {},
     "output_type": "execute_result"
    }
   ],
   "source": [
    "df.head()"
   ]
  },
  {
   "cell_type": "markdown",
   "metadata": {},
   "source": [
    "# Dealing with Null Values"
   ]
  },
  {
   "cell_type": "code",
   "execution_count": 14,
   "metadata": {},
   "outputs": [
    {
     "data": {
      "text/plain": [
       "Confirmed    0\n",
       "Recovered    0\n",
       "Deaths       0\n",
       "dtype: int64"
      ]
     },
     "execution_count": 14,
     "metadata": {},
     "output_type": "execute_result"
    }
   ],
   "source": [
    "df.isnull().sum()"
   ]
  },
  {
   "cell_type": "code",
   "execution_count": 15,
   "metadata": {},
   "outputs": [
    {
     "data": {
      "text/plain": [
       "<matplotlib.axes._subplots.AxesSubplot at 0x136d2da8dc8>"
      ]
     },
     "execution_count": 15,
     "metadata": {},
     "output_type": "execute_result"
    },
    {
     "data": {
      "image/png": "[encoded data removed]",
      "text/plain": [
       "<Figure size 432x288 with 2 Axes>"
      ]
     },
     "metadata": {
      "needs_background": "light"
     },
     "output_type": "display_data"
    }
   ],
   "source": [
    "sns.heatmap(df.isnull())"
   ]
  },
  {
   "cell_type": "markdown",
   "metadata": {},
   "source": [
    "there is no null value in this dataset"
   ]
  },
  {
   "cell_type": "code",
   "execution_count": 16,
   "metadata": {},
   "outputs": [
    {
     "data": {
      "text/plain": [
       "<matplotlib.axes._subplots.AxesSubplot at 0x136d372cd48>"
      ]
     },
     "execution_count": 16,
     "metadata": {},
     "output_type": "execute_result"
    },
    {
     "data": {
      "image/png": "[encoded data removed]",
      "text/plain": [
       "<Figure size 432x288 with 1 Axes>"
      ]
     },
     "metadata": {
      "needs_background": "light"
     },
     "output_type": "display_data"
    }
   ],
   "source": [
    "sns.scatterplot(df.Deaths,df.Confirmed)"
   ]
  },
  {
   "cell_type": "code",
   "execution_count": 17,
   "metadata": {},
   "outputs": [
    {
     "data": {
      "text/plain": [
       "<matplotlib.axes._subplots.AxesSubplot at 0x136d3a69788>"
      ]
     },
     "execution_count": 17,
     "metadata": {},
     "output_type": "execute_result"
    },
    {
     "data": {
      "image/png": "[encoded data removed]",
      "text/plain": [
       "<Figure size 432x288 with 1 Axes>"
      ]
     },
     "metadata": {
      "needs_background": "light"
     },
     "output_type": "display_data"
    }
   ],
   "source": [
    "sns.lineplot(df.Deaths,df.Confirmed)"
   ]
  },
  {
   "cell_type": "markdown",
   "metadata": {},
   "source": [
    "we can see that dath is also increase with the increase in no of case"
   ]
  },
  {
   "cell_type": "code",
   "execution_count": 92,
   "metadata": {},
   "outputs": [
    {
     "data": {
      "text/plain": [
       "<matplotlib.axes._subplots.AxesSubplot at 0x136dbd22fc8>"
      ]
     },
     "execution_count": 92,
     "metadata": {},
     "output_type": "execute_result"
    },
    {
     "data": {
      "image/png": "[encoded data removed]",
      "text/plain": [
       "<Figure size 432x288 with 1 Axes>"
      ]
     },
     "metadata": {
      "needs_background": "light"
     },
     "output_type": "display_data"
    }
   ],
   "source": [
    "sns.barplot(df.Deaths,df.Confirmed)"
   ]
  },
  {
   "cell_type": "markdown",
   "metadata": {},
   "source": [
    "the death is start increasing with the increase in the confirm cases"
   ]
  },
  {
   "cell_type": "code",
   "execution_count": 100,
   "metadata": {},
   "outputs": [
    {
     "data": {
      "text/plain": [
       "<matplotlib.axes._subplots.AxesSubplot at 0x136e17656c8>"
      ]
     },
     "execution_count": 100,
     "metadata": {},
     "output_type": "execute_result"
    },
    {
     "data": {
      "image/png": "[encoded data removed]",
      "text/plain": [
       "<Figure size 432x288 with 1 Axes>"
      ]
     },
     "metadata": {
      "needs_background": "light"
     },
     "output_type": "display_data"
    }
   ],
   "source": [
    "sns.boxplot(df.Deaths)"
   ]
  },
  {
   "cell_type": "code",
   "execution_count": 102,
   "metadata": {},
   "outputs": [
    {
     "data": {
      "text/plain": [
       "<seaborn.axisgrid.PairGrid at 0x136e15c2d48>"
      ]
     },
     "execution_count": 102,
     "metadata": {},
     "output_type": "execute_result"
    },
    {
     "data": {
      "image/png": "[encoded data removed]",
      "text/plain": [
       "<Figure size 540x540 with 12 Axes>"
      ]
     },
     "metadata": {
      "needs_background": "light"
     },
     "output_type": "display_data"
    }
   ],
   "source": [
    "sns.pairplot(df)"
   ]
  },
  {
   "cell_type": "markdown",
   "metadata": {},
   "source": [
    "# Removing Outliers"
   ]
  },
  {
   "cell_type": "code",
   "execution_count": 19,
   "metadata": {},
   "outputs": [],
   "source": [
    "from scipy.stats import zscore"
   ]
  },
  {
   "cell_type": "code",
   "execution_count": 20,
   "metadata": {},
   "outputs": [],
   "source": [
    "z=np.abs(zscore(df))"
   ]
  },
  {
   "cell_type": "code",
   "execution_count": 21,
   "metadata": {},
   "outputs": [],
   "source": [
    "df_new=df[(z<3).all(axis=1)]"
   ]
  },
  {
   "cell_type": "code",
   "execution_count": 22,
   "metadata": {},
   "outputs": [
    {
     "data": {
      "text/plain": [
       "(23688, 3)"
      ]
     },
     "execution_count": 22,
     "metadata": {},
     "output_type": "execute_result"
    }
   ],
   "source": [
    "df.shape"
   ]
  },
  {
   "cell_type": "code",
   "execution_count": 23,
   "metadata": {},
   "outputs": [
    {
     "data": {
      "text/plain": [
       "(23177, 3)"
      ]
     },
     "execution_count": 23,
     "metadata": {},
     "output_type": "execute_result"
    }
   ],
   "source": [
    "df_new.shape"
   ]
  },
  {
   "cell_type": "markdown",
   "metadata": {},
   "source": [
    "# Dealing with Skewness"
   ]
  },
  {
   "cell_type": "code",
   "execution_count": 24,
   "metadata": {},
   "outputs": [
    {
     "data": {
      "text/plain": [
       "Confirmed    6.906829\n",
       "Recovered    7.472281\n",
       "Deaths       9.729360\n",
       "dtype: float64"
      ]
     },
     "execution_count": 24,
     "metadata": {},
     "output_type": "execute_result"
    }
   ],
   "source": [
    "df_new.skew()"
   ]
  },
  {
   "cell_type": "code",
   "execution_count": 29,
   "metadata": {},
   "outputs": [],
   "source": [
    "for col in df_new.columns:\n",
    "    if df_new.skew().loc[col]>0.55:\n",
    "        df_new[col]=np.log1p(df_new[col])"
   ]
  },
  {
   "cell_type": "code",
   "execution_count": 30,
   "metadata": {},
   "outputs": [
    {
     "data": {
      "text/plain": [
       "Confirmed    0.473662\n",
       "Recovered    0.364613\n",
       "Deaths       0.543670\n",
       "dtype: float64"
      ]
     },
     "execution_count": 30,
     "metadata": {},
     "output_type": "execute_result"
    }
   ],
   "source": [
    "df_new.skew()"
   ]
  },
  {
   "cell_type": "markdown",
   "metadata": {},
   "source": [
    "# Correlation"
   ]
  },
  {
   "cell_type": "code",
   "execution_count": 31,
   "metadata": {},
   "outputs": [
    {
     "data": {
      "text/html": [
       "<div>\n",
       "<style scoped>\n",
       "    .dataframe tbody tr th:only-of-type {\n",
       "        vertical-align: middle;\n",
       "    }\n",
       "\n",
       "    .dataframe tbody tr th {\n",
       "        vertical-align: top;\n",
       "    }\n",
       "\n",
       "    .dataframe thead th {\n",
       "        text-align: right;\n",
       "    }\n",
       "</style>\n",
       "<table border=\"1\" class=\"dataframe\">\n",
       "  <thead>\n",
       "    <tr style=\"text-align: right;\">\n",
       "      <th></th>\n",
       "      <th>Confirmed</th>\n",
       "      <th>Recovered</th>\n",
       "      <th>Deaths</th>\n",
       "    </tr>\n",
       "  </thead>\n",
       "  <tbody>\n",
       "    <tr>\n",
       "      <th>Confirmed</th>\n",
       "      <td>1.000000</td>\n",
       "      <td>0.926513</td>\n",
       "      <td>0.911713</td>\n",
       "    </tr>\n",
       "    <tr>\n",
       "      <th>Recovered</th>\n",
       "      <td>0.926513</td>\n",
       "      <td>1.000000</td>\n",
       "      <td>0.871606</td>\n",
       "    </tr>\n",
       "    <tr>\n",
       "      <th>Deaths</th>\n",
       "      <td>0.911713</td>\n",
       "      <td>0.871606</td>\n",
       "      <td>1.000000</td>\n",
       "    </tr>\n",
       "  </tbody>\n",
       "</table>\n",
       "</div>"
      ],
      "text/plain": [
       "           Confirmed  Recovered    Deaths\n",
       "Confirmed   1.000000   0.926513  0.911713\n",
       "Recovered   0.926513   1.000000  0.871606\n",
       "Deaths      0.911713   0.871606  1.000000"
      ]
     },
     "execution_count": 31,
     "metadata": {},
     "output_type": "execute_result"
    }
   ],
   "source": [
    "df_new.corr()"
   ]
  },
  {
   "cell_type": "markdown",
   "metadata": {},
   "source": [
    "Death is positively related with confirmed case and recovered cases"
   ]
  },
  {
   "cell_type": "code",
   "execution_count": 32,
   "metadata": {},
   "outputs": [
    {
     "data": {
      "text/plain": [
       "<matplotlib.axes._subplots.AxesSubplot at 0x136d4030948>"
      ]
     },
     "execution_count": 32,
     "metadata": {},
     "output_type": "execute_result"
    },
    {
     "data": {
      "image/png": "[encoded data removed]",
      "text/plain": [
       "<Figure size 432x288 with 2 Axes>"
      ]
     },
     "metadata": {
      "needs_background": "light"
     },
     "output_type": "display_data"
    }
   ],
   "source": [
    "sns.heatmap(df_new.corr(),annot=True)"
   ]
  },
  {
   "cell_type": "markdown",
   "metadata": {},
   "source": [
    "# setting the x and y variable"
   ]
  },
  {
   "cell_type": "code",
   "execution_count": 33,
   "metadata": {},
   "outputs": [],
   "source": [
    "x=df_new.iloc[:,0:-1]\n",
    "y=df_new.iloc[:,-1]"
   ]
  },
  {
   "cell_type": "code",
   "execution_count": 34,
   "metadata": {},
   "outputs": [
    {
     "data": {
      "text/plain": [
       "(23177, 2)"
      ]
     },
     "execution_count": 34,
     "metadata": {},
     "output_type": "execute_result"
    }
   ],
   "source": [
    "x.shape"
   ]
  },
  {
   "cell_type": "code",
   "execution_count": 35,
   "metadata": {},
   "outputs": [],
   "source": [
    "y=y.values.reshape(y.shape[0],1)"
   ]
  },
  {
   "cell_type": "code",
   "execution_count": 36,
   "metadata": {},
   "outputs": [
    {
     "data": {
      "text/plain": [
       "(23177, 1)"
      ]
     },
     "execution_count": 36,
     "metadata": {},
     "output_type": "execute_result"
    }
   ],
   "source": [
    "y.shape"
   ]
  },
  {
   "cell_type": "markdown",
   "metadata": {},
   "source": [
    "# Scaler"
   ]
  },
  {
   "cell_type": "code",
   "execution_count": 37,
   "metadata": {},
   "outputs": [
    {
     "data": {
      "text/plain": [
       "(23177, 2)"
      ]
     },
     "execution_count": 37,
     "metadata": {},
     "output_type": "execute_result"
    }
   ],
   "source": [
    "from sklearn.preprocessing import StandardScaler\n",
    "scale=StandardScaler()\n",
    "x=scale.fit_transform(x)\n",
    "x.shape"
   ]
  },
  {
   "cell_type": "markdown",
   "metadata": {},
   "source": [
    "# Regression Process"
   ]
  },
  {
   "cell_type": "code",
   "execution_count": 40,
   "metadata": {},
   "outputs": [],
   "source": [
    "from sklearn.model_selection import train_test_split,cross_val_score\n",
    "from sklearn.linear_model import LinearRegression\n",
    "from sklearn.metrics import mean_squared_error,mean_absolute_error,r2_score"
   ]
  },
  {
   "cell_type": "code",
   "execution_count": 41,
   "metadata": {},
   "outputs": [],
   "source": [
    "def max_r2_score(rgr,x,y):\n",
    "    max_score=0\n",
    "    for r in range(42,101):\n",
    "        \n",
    "        x_train,x_test,y_train,y_test=train_test_split(x,y,test_size=.20,random_state=r)\n",
    "        rgr.fit(x_train,y_train)\n",
    "        pred=rgr.predict(x_test)\n",
    "        score=r2_score(y_test,pred)\n",
    "        print('score at',r,'is',score)\n",
    "        if score>max_score:\n",
    "            max_score=score\n",
    "            r_state=r\n",
    "    print('max score at the r state of',r_state,'is',max_score)\n",
    "            \n",
    "    return r_state\n",
    "        "
   ]
  },
  {
   "cell_type": "code",
   "execution_count": 42,
   "metadata": {},
   "outputs": [],
   "source": [
    "lr=LinearRegression()"
   ]
  },
  {
   "cell_type": "code",
   "execution_count": 43,
   "metadata": {},
   "outputs": [
    {
     "name": "stdout",
     "output_type": "stream",
     "text": [
      "score at 42 is 0.8287730238517369\n",
      "score at 43 is 0.8378069259814829\n",
      "score at 44 is 0.8378658628041168\n",
      "score at 45 is 0.8350379017549077\n",
      "score at 46 is 0.8387901804503722\n",
      "score at 47 is 0.830765669614971\n",
      "score at 48 is 0.8348265351062577\n",
      "score at 49 is 0.8351359560282783\n",
      "score at 50 is 0.8388419063468207\n",
      "score at 51 is 0.836400050885496\n",
      "score at 52 is 0.8330467343384867\n",
      "score at 53 is 0.8397985877624043\n",
      "score at 54 is 0.8391843194326449\n",
      "score at 55 is 0.8420864316198449\n",
      "score at 56 is 0.8460342753547817\n",
      "score at 57 is 0.8304267984305143\n",
      "score at 58 is 0.8453422329018327\n",
      "score at 59 is 0.8382899733068538\n",
      "score at 60 is 0.8260115106715212\n",
      "score at 61 is 0.840314718242732\n",
      "score at 62 is 0.845686940629152\n",
      "score at 63 is 0.8389931037305535\n",
      "score at 64 is 0.8426534503600839\n",
      "score at 65 is 0.8419160022412644\n",
      "score at 66 is 0.8406869023308118\n",
      "score at 67 is 0.8382107163394141\n",
      "score at 68 is 0.83815399603063\n",
      "score at 69 is 0.8369293922158194\n",
      "score at 70 is 0.843054809448812\n",
      "score at 71 is 0.8446544859857302\n",
      "score at 72 is 0.8412804912865965\n",
      "score at 73 is 0.8439057070822125\n",
      "score at 74 is 0.8411188751376344\n",
      "score at 75 is 0.8407520909659524\n",
      "score at 76 is 0.8399630609130955\n",
      "score at 77 is 0.836188228706886\n",
      "score at 78 is 0.8371306875634134\n",
      "score at 79 is 0.8412352899507579\n",
      "score at 80 is 0.8341194303391066\n",
      "score at 81 is 0.8354911640573359\n",
      "score at 82 is 0.8363710944486143\n",
      "score at 83 is 0.8390585718525926\n",
      "score at 84 is 0.8383565978778822\n",
      "score at 85 is 0.837855351382351\n",
      "score at 86 is 0.8330621050609415\n",
      "score at 87 is 0.8346939200922062\n",
      "score at 88 is 0.8388053940378657\n",
      "score at 89 is 0.8402250794601249\n",
      "score at 90 is 0.8385635747630548\n",
      "score at 91 is 0.8347623547602703\n",
      "score at 92 is 0.8310832585893291\n",
      "score at 93 is 0.8392043271013923\n",
      "score at 94 is 0.8362662115730666\n",
      "score at 95 is 0.8360399746002619\n",
      "score at 96 is 0.8418241017937907\n",
      "score at 97 is 0.8413452017875908\n",
      "score at 98 is 0.8326411333249136\n",
      "score at 99 is 0.8343265941378275\n",
      "score at 100 is 0.8470095468712813\n",
      "max score at the r state of 100 is 0.8470095468712813\n"
     ]
    }
   ],
   "source": [
    "sc=max_r2_score(lr,x,y)"
   ]
  },
  {
   "cell_type": "code",
   "execution_count": 44,
   "metadata": {},
   "outputs": [],
   "source": [
    "x_train,x_test,y_train,y_test=train_test_split(x,y,test_size=.20,random_state=100)\n",
    "lr.fit(x_train,y_train)\n",
    "pred=lr.predict(x_test)"
   ]
  },
  {
   "cell_type": "code",
   "execution_count": 46,
   "metadata": {},
   "outputs": [
    {
     "name": "stdout",
     "output_type": "stream",
     "text": [
      "0.8470095468712813\n",
      "\n",
      "\n",
      "RMSE 0.17038175236748673\n"
     ]
    }
   ],
   "source": [
    "print(r2_score(y_test,pred))\n",
    "print('\\n')\n",
    "print('RMSE',np.sqrt(mean_squared_error(y_test,pred)))"
   ]
  },
  {
   "cell_type": "markdown",
   "metadata": {},
   "source": [
    "# Lasso"
   ]
  },
  {
   "cell_type": "code",
   "execution_count": 47,
   "metadata": {},
   "outputs": [],
   "source": [
    "from sklearn.linear_model import Lasso\n",
    "from sklearn.model_selection import GridSearchCV"
   ]
  },
  {
   "cell_type": "code",
   "execution_count": 48,
   "metadata": {},
   "outputs": [
    {
     "data": {
      "text/plain": [
       "{'alpha': 0.01}"
      ]
     },
     "execution_count": 48,
     "metadata": {},
     "output_type": "execute_result"
    }
   ],
   "source": [
    "lsr=Lasso()\n",
    "pr={'alpha':[.001,.01,.1,1]}\n",
    "gs=GridSearchCV(lsr,pr,cv=10)\n",
    "gs.fit(x,y)\n",
    "gs.best_params_\n"
   ]
  },
  {
   "cell_type": "code",
   "execution_count": 49,
   "metadata": {},
   "outputs": [
    {
     "name": "stdout",
     "output_type": "stream",
     "text": [
      "score at 42 is 0.8282798046715678\n",
      "score at 43 is 0.8373062299873882\n",
      "score at 44 is 0.8372957187773368\n",
      "score at 45 is 0.8341254286899105\n",
      "score at 46 is 0.8382567052497625\n",
      "score at 47 is 0.8303509177193793\n",
      "score at 48 is 0.8343307364220783\n",
      "score at 49 is 0.8347574812479758\n",
      "score at 50 is 0.8383408487020008\n",
      "score at 51 is 0.8358332357455939\n",
      "score at 52 is 0.8321914534891043\n",
      "score at 53 is 0.8394520154059456\n",
      "score at 54 is 0.8385951559788878\n",
      "score at 55 is 0.8415235153887172\n",
      "score at 56 is 0.8450431193531488\n",
      "score at 57 is 0.8301304200446089\n",
      "score at 58 is 0.8445236796768623\n",
      "score at 59 is 0.83780541254804\n",
      "score at 60 is 0.825470230252852\n",
      "score at 61 is 0.8397422409000941\n",
      "score at 62 is 0.8451746103071391\n",
      "score at 63 is 0.8383405279923648\n",
      "score at 64 is 0.8419908492225158\n",
      "score at 65 is 0.8414763904154529\n",
      "score at 66 is 0.8397416152891093\n",
      "score at 67 is 0.8375966303170823\n",
      "score at 68 is 0.8374180741566121\n",
      "score at 69 is 0.8364225255707418\n",
      "score at 70 is 0.8422940745296641\n",
      "score at 71 is 0.8440317553905192\n",
      "score at 72 is 0.8406268804580218\n",
      "score at 73 is 0.8432663109929227\n",
      "score at 74 is 0.8405536553428247\n",
      "score at 75 is 0.8399795312177395\n",
      "score at 76 is 0.8395658603295848\n",
      "score at 77 is 0.8356306560428606\n",
      "score at 78 is 0.836366218996021\n",
      "score at 79 is 0.84055635616508\n",
      "score at 80 is 0.8334683704027915\n",
      "score at 81 is 0.8347934720485714\n",
      "score at 82 is 0.8358488323514369\n",
      "score at 83 is 0.83836014365137\n",
      "score at 84 is 0.8375793142823797\n",
      "score at 85 is 0.8371130786956564\n",
      "score at 86 is 0.8329097629191503\n",
      "score at 87 is 0.8343107841550315\n",
      "score at 88 is 0.8381926523088591\n",
      "score at 89 is 0.839528661430654\n",
      "score at 90 is 0.8377926994908618\n",
      "score at 91 is 0.8342496424987242\n",
      "score at 92 is 0.8306683110114965\n",
      "score at 93 is 0.8389635334774668\n",
      "score at 94 is 0.8357280270836257\n",
      "score at 95 is 0.83558594750923\n",
      "score at 96 is 0.8412165315581202\n",
      "score at 97 is 0.8405870317866391\n",
      "score at 98 is 0.8324183037847881\n",
      "score at 99 is 0.8337930721142082\n",
      "score at 100 is 0.8460644460834309\n",
      "max score at the r state of 100 is 0.8460644460834309\n"
     ]
    }
   ],
   "source": [
    "lsr=Lasso(alpha=.01)\n",
    "sc=max_r2_score(lsr,x,y)"
   ]
  },
  {
   "cell_type": "code",
   "execution_count": 50,
   "metadata": {},
   "outputs": [],
   "source": [
    "x_train,x_test,y_train,y_test=train_test_split(x,y,test_size=.20,random_state=100)\n",
    "lsr.fit(x_train,y_train)\n",
    "pred=lsr.predict(x_test)"
   ]
  },
  {
   "cell_type": "code",
   "execution_count": 51,
   "metadata": {},
   "outputs": [
    {
     "name": "stdout",
     "output_type": "stream",
     "text": [
      "0.8460644460834309\n",
      "\n",
      "\n",
      "RMSE 0.17090721000942288\n"
     ]
    }
   ],
   "source": [
    "print(r2_score(y_test,pred))\n",
    "print('\\n')\n",
    "print('RMSE',np.sqrt(mean_squared_error(y_test,pred)))"
   ]
  },
  {
   "cell_type": "markdown",
   "metadata": {},
   "source": [
    "# Ridge"
   ]
  },
  {
   "cell_type": "code",
   "execution_count": 52,
   "metadata": {},
   "outputs": [],
   "source": [
    "from sklearn.linear_model import Ridge\n",
    "from sklearn.model_selection import GridSearchCV"
   ]
  },
  {
   "cell_type": "code",
   "execution_count": 53,
   "metadata": {},
   "outputs": [
    {
     "data": {
      "text/plain": [
       "{'alpha': 1}"
      ]
     },
     "execution_count": 53,
     "metadata": {},
     "output_type": "execute_result"
    }
   ],
   "source": [
    "rdr=Ridge()\n",
    "pr={'alpha':[.001,.01,.1,1]}\n",
    "gs=GridSearchCV(rdr,pr,cv=10)\n",
    "gs.fit(x,y)\n",
    "gs.best_params_\n"
   ]
  },
  {
   "cell_type": "code",
   "execution_count": 54,
   "metadata": {},
   "outputs": [
    {
     "name": "stdout",
     "output_type": "stream",
     "text": [
      "score at 42 is 0.8287729623280202\n",
      "score at 43 is 0.8378081643763154\n",
      "score at 44 is 0.8378659298334435\n",
      "score at 45 is 0.8350417560026692\n",
      "score at 46 is 0.838789948249395\n",
      "score at 47 is 0.8307666916952121\n",
      "score at 48 is 0.8348247656914813\n",
      "score at 49 is 0.8351369866066787\n",
      "score at 50 is 0.8388442137717238\n",
      "score at 51 is 0.8364004487993357\n",
      "score at 52 is 0.8330452019671231\n",
      "score at 53 is 0.8397994897421348\n",
      "score at 54 is 0.8391835486738857\n",
      "score at 55 is 0.8420855307666244\n",
      "score at 56 is 0.8460350530626914\n",
      "score at 57 is 0.8304269320360749\n",
      "score at 58 is 0.8453433649759755\n",
      "score at 59 is 0.8382888448712285\n",
      "score at 60 is 0.8260111204752433\n",
      "score at 61 is 0.8403128810672728\n",
      "score at 62 is 0.84568727079591\n",
      "score at 63 is 0.8389941210759837\n",
      "score at 64 is 0.8426539633503659\n",
      "score at 65 is 0.8419161678360585\n",
      "score at 66 is 0.8406870159677153\n",
      "score at 67 is 0.8382096562767439\n",
      "score at 68 is 0.8381555618600306\n",
      "score at 69 is 0.8369286637443263\n",
      "score at 70 is 0.8430570769670129\n",
      "score at 71 is 0.8446553921478566\n",
      "score at 72 is 0.8412795768557675\n",
      "score at 73 is 0.843908628324551\n",
      "score at 74 is 0.8411189205452292\n",
      "score at 75 is 0.8407512020437584\n",
      "score at 76 is 0.8399643306947003\n",
      "score at 77 is 0.8361871764888908\n",
      "score at 78 is 0.8371266641292778\n",
      "score at 79 is 0.841236659491273\n",
      "score at 80 is 0.8341181927032691\n",
      "score at 81 is 0.8354898011017274\n",
      "score at 82 is 0.8363716784498758\n",
      "score at 83 is 0.8390597372725667\n",
      "score at 84 is 0.8383574095933444\n",
      "score at 85 is 0.8378552078778672\n",
      "score at 86 is 0.8330610908583059\n",
      "score at 87 is 0.8346930425405563\n",
      "score at 88 is 0.838806135945384\n",
      "score at 89 is 0.840226210024339\n",
      "score at 90 is 0.8385630177857033\n",
      "score at 91 is 0.8347639770118588\n",
      "score at 92 is 0.8310809964297895\n",
      "score at 93 is 0.8392026575722652\n",
      "score at 94 is 0.8362655721659776\n",
      "score at 95 is 0.83603938993027\n",
      "score at 96 is 0.8418240195977431\n",
      "score at 97 is 0.841346097301465\n",
      "score at 98 is 0.8326415590606019\n",
      "score at 99 is 0.8343265083659541\n",
      "score at 100 is 0.84701013368356\n",
      "max score at the r state of 100 is 0.84701013368356\n"
     ]
    }
   ],
   "source": [
    "rdr=Ridge(alpha=1)\n",
    "sc=max_r2_score(rdr,x,y)"
   ]
  },
  {
   "cell_type": "code",
   "execution_count": 55,
   "metadata": {},
   "outputs": [],
   "source": [
    "x_train,x_test,y_train,y_test=train_test_split(x,y,test_size=.20,random_state=100)\n",
    "rdr.fit(x_train,y_train)\n",
    "pred=rdr.predict(x_test)"
   ]
  },
  {
   "cell_type": "code",
   "execution_count": 56,
   "metadata": {},
   "outputs": [
    {
     "name": "stdout",
     "output_type": "stream",
     "text": [
      "0.84701013368356\n"
     ]
    }
   ],
   "source": [
    "print(r2_score(y_test,pred))"
   ]
  },
  {
   "cell_type": "code",
   "execution_count": 57,
   "metadata": {},
   "outputs": [
    {
     "name": "stdout",
     "output_type": "stream",
     "text": [
      "RMSE 0.1703814256078811\n"
     ]
    }
   ],
   "source": [
    "print('RMSE',np.sqrt(mean_squared_error(y_test,pred)))"
   ]
  },
  {
   "cell_type": "markdown",
   "metadata": {},
   "source": [
    "# kneighborsclassifier"
   ]
  },
  {
   "cell_type": "code",
   "execution_count": 58,
   "metadata": {},
   "outputs": [],
   "source": [
    "from sklearn.neighbors import KNeighborsRegressor"
   ]
  },
  {
   "cell_type": "code",
   "execution_count": 59,
   "metadata": {},
   "outputs": [
    {
     "data": {
      "text/plain": [
       "{'n_neighbors': 29}"
      ]
     },
     "execution_count": 59,
     "metadata": {},
     "output_type": "execute_result"
    }
   ],
   "source": [
    "knn=KNeighborsRegressor()\n",
    "pr={'n_neighbors':range(1,30)}\n",
    "gs=GridSearchCV(knn,pr,cv=10)\n",
    "gs.fit(x,y)\n",
    "gs.best_params_"
   ]
  },
  {
   "cell_type": "code",
   "execution_count": 60,
   "metadata": {},
   "outputs": [
    {
     "name": "stdout",
     "output_type": "stream",
     "text": [
      "score at 42 is 0.8691978077700577\n",
      "score at 43 is 0.8807671769516683\n",
      "score at 44 is 0.8782702645426201\n",
      "score at 45 is 0.8777997234299248\n",
      "score at 46 is 0.8844963472506315\n",
      "score at 47 is 0.877571508475423\n",
      "score at 48 is 0.8714783372205912\n",
      "score at 49 is 0.8846006629339753\n",
      "score at 50 is 0.8806316253367642\n",
      "score at 51 is 0.8751844823669509\n",
      "score at 52 is 0.8814448296074432\n",
      "score at 53 is 0.8803159107773566\n",
      "score at 54 is 0.8765033753328828\n",
      "score at 55 is 0.8816862735309725\n",
      "score at 56 is 0.8905786109356527\n",
      "score at 57 is 0.8763137510419108\n",
      "score at 58 is 0.8874036952136088\n",
      "score at 59 is 0.8773532525392675\n",
      "score at 60 is 0.8724420153952613\n",
      "score at 61 is 0.8822426833866717\n",
      "score at 62 is 0.8922475653567201\n",
      "score at 63 is 0.8817795967893046\n",
      "score at 64 is 0.8826106997339214\n",
      "score at 65 is 0.8761921106703836\n",
      "score at 66 is 0.8860977578659281\n",
      "score at 67 is 0.8802027796938608\n",
      "score at 68 is 0.8824325748877809\n",
      "score at 69 is 0.880664353123313\n",
      "score at 70 is 0.8834528112929354\n",
      "score at 71 is 0.8828095160311631\n",
      "score at 72 is 0.8849635496427282\n",
      "score at 73 is 0.8851439551902892\n",
      "score at 74 is 0.8881659260484895\n",
      "score at 75 is 0.8822417226624419\n",
      "score at 76 is 0.8812074021431696\n",
      "score at 77 is 0.8813586619402736\n",
      "score at 78 is 0.882727336926089\n",
      "score at 79 is 0.8830898317398517\n",
      "score at 80 is 0.8785274875623932\n",
      "score at 81 is 0.8762349976138906\n",
      "score at 82 is 0.879660119799906\n",
      "score at 83 is 0.8817672436335232\n",
      "score at 84 is 0.8729050979204213\n",
      "score at 85 is 0.8815365103926784\n",
      "score at 86 is 0.8729047593323391\n",
      "score at 87 is 0.8805243905563929\n",
      "score at 88 is 0.8821124091482718\n",
      "score at 89 is 0.880661912506307\n",
      "score at 90 is 0.8808507966317114\n",
      "score at 91 is 0.8806762138244084\n",
      "score at 92 is 0.8757343865954146\n",
      "score at 93 is 0.8840037559027133\n",
      "score at 94 is 0.8764766080291255\n",
      "score at 95 is 0.8800794984559784\n",
      "score at 96 is 0.885748672978645\n",
      "score at 97 is 0.8865789275087939\n",
      "score at 98 is 0.8782955658787039\n",
      "score at 99 is 0.877394581982621\n",
      "score at 100 is 0.8855819041230586\n",
      "max score at the r state of 62 is 0.8922475653567201\n"
     ]
    }
   ],
   "source": [
    "knn=KNeighborsRegressor(n_neighbors=29)\n",
    "sc=max_r2_score(knn,x,y)"
   ]
  },
  {
   "cell_type": "code",
   "execution_count": 61,
   "metadata": {},
   "outputs": [],
   "source": [
    "x_train,x_test,y_train,y_test=train_test_split(x,y,test_size=.20,random_state=62)\n",
    "knn.fit(x_train,y_train)\n",
    "pred=knn.predict(x_test)"
   ]
  },
  {
   "cell_type": "code",
   "execution_count": 62,
   "metadata": {},
   "outputs": [
    {
     "name": "stdout",
     "output_type": "stream",
     "text": [
      "0.8922475653567201\n"
     ]
    }
   ],
   "source": [
    "print(r2_score(y_test,pred))"
   ]
  },
  {
   "cell_type": "code",
   "execution_count": 63,
   "metadata": {},
   "outputs": [
    {
     "name": "stdout",
     "output_type": "stream",
     "text": [
      "RMSE 0.14346057201908974\n"
     ]
    }
   ],
   "source": [
    "print('RMSE',np.sqrt(mean_squared_error(y_test,pred)))"
   ]
  },
  {
   "cell_type": "markdown",
   "metadata": {},
   "source": [
    "# Graientboostingregressor"
   ]
  },
  {
   "cell_type": "code",
   "execution_count": 64,
   "metadata": {},
   "outputs": [],
   "source": [
    "from sklearn.ensemble import GradientBoostingRegressor"
   ]
  },
  {
   "cell_type": "code",
   "execution_count": 65,
   "metadata": {},
   "outputs": [
    {
     "data": {
      "text/plain": [
       "{'learning_rate': 0.1}"
      ]
     },
     "execution_count": 65,
     "metadata": {},
     "output_type": "execute_result"
    }
   ],
   "source": [
    "gb=GradientBoostingRegressor()\n",
    "pr={'learning_rate':[.001,.01,.1,1]}\n",
    "gs=GridSearchCV(gb,pr,cv=5)\n",
    "gs.fit(x,y)\n",
    "gs.best_params_"
   ]
  },
  {
   "cell_type": "code",
   "execution_count": 66,
   "metadata": {},
   "outputs": [
    {
     "name": "stdout",
     "output_type": "stream",
     "text": [
      "score at 42 is 0.8655997623778511\n",
      "score at 43 is 0.8781642800747304\n",
      "score at 44 is 0.8769483568129733\n",
      "score at 45 is 0.87368104351793\n",
      "score at 46 is 0.8819656108716643\n",
      "score at 47 is 0.8741199521045899\n",
      "score at 48 is 0.8706279303651687\n",
      "score at 49 is 0.8814262499054736\n",
      "score at 50 is 0.8798704795076715\n",
      "score at 51 is 0.8755186285152021\n",
      "score at 52 is 0.8787999584948227\n",
      "score at 53 is 0.8799631758520101\n",
      "score at 54 is 0.875679568692139\n",
      "score at 55 is 0.8810590770489704\n",
      "score at 56 is 0.8880977335262918\n",
      "score at 57 is 0.8728079519793196\n",
      "score at 58 is 0.8849735763301089\n",
      "score at 59 is 0.8766958995952873\n",
      "score at 60 is 0.870411155385268\n",
      "score at 61 is 0.8811532851784052\n",
      "score at 62 is 0.8853597740629724\n",
      "score at 63 is 0.8801116436430798\n",
      "score at 64 is 0.8814464431724945\n",
      "score at 65 is 0.8795486989326267\n",
      "score at 66 is 0.8838839417473683\n",
      "score at 67 is 0.8786390287059581\n",
      "score at 68 is 0.8784996916188239\n",
      "score at 69 is 0.8783452945957283\n",
      "score at 70 is 0.8815565855747851\n",
      "score at 71 is 0.8809815820902922\n",
      "score at 72 is 0.8846944855828459\n",
      "score at 73 is 0.8812283816596902\n",
      "score at 74 is 0.8837359685418092\n",
      "score at 75 is 0.8820588354659533\n",
      "score at 76 is 0.8811883015363923\n",
      "score at 77 is 0.8770120984694229\n",
      "score at 78 is 0.8800537112397779\n",
      "score at 79 is 0.8819140568084612\n",
      "score at 80 is 0.8746142850857617\n",
      "score at 81 is 0.8748742739073334\n",
      "score at 82 is 0.8770595856070074\n",
      "score at 83 is 0.8790379587278949\n",
      "score at 84 is 0.8707697573056284\n",
      "score at 85 is 0.8815186499425924\n",
      "score at 86 is 0.8747286685998266\n",
      "score at 87 is 0.8791176412870052\n",
      "score at 88 is 0.880360328625044\n",
      "score at 89 is 0.8795455345508288\n",
      "score at 90 is 0.8808234634197937\n",
      "score at 91 is 0.8772468104541908\n",
      "score at 92 is 0.8734358007847988\n",
      "score at 93 is 0.8812481685854533\n",
      "score at 94 is 0.8741335225763138\n",
      "score at 95 is 0.8784945070567357\n",
      "score at 96 is 0.8832818065606785\n",
      "score at 97 is 0.8819954016899835\n",
      "score at 98 is 0.8777405455421751\n",
      "score at 99 is 0.8783210142652188\n",
      "score at 100 is 0.8837976260618736\n",
      "max score at the r state of 56 is 0.8880977335262918\n"
     ]
    }
   ],
   "source": [
    "gb=GradientBoostingRegressor(learning_rate=.1)\n",
    "sc=max_r2_score(gb,x,y)"
   ]
  },
  {
   "cell_type": "code",
   "execution_count": 67,
   "metadata": {},
   "outputs": [],
   "source": [
    "x_train,x_test,y_train,y_test=train_test_split(x,y,test_size=.20,random_state=56)\n",
    "gb.fit(x_train,y_train)\n",
    "pred=gb.predict(x_test)"
   ]
  },
  {
   "cell_type": "code",
   "execution_count": 68,
   "metadata": {},
   "outputs": [
    {
     "name": "stdout",
     "output_type": "stream",
     "text": [
      "0.8880979022198386\n"
     ]
    }
   ],
   "source": [
    "print(r2_score(y_test,pred))"
   ]
  },
  {
   "cell_type": "code",
   "execution_count": 69,
   "metadata": {},
   "outputs": [
    {
     "name": "stdout",
     "output_type": "stream",
     "text": [
      "RMSE 0.1463664267769834\n"
     ]
    }
   ],
   "source": [
    "print('RMSE',np.sqrt(mean_squared_error(y_test,pred)))"
   ]
  },
  {
   "cell_type": "markdown",
   "metadata": {},
   "source": [
    "# Cross Validation"
   ]
  },
  {
   "cell_type": "code",
   "execution_count": 70,
   "metadata": {},
   "outputs": [
    {
     "data": {
      "text/plain": [
       "0.4509265216299035"
      ]
     },
     "execution_count": 70,
     "metadata": {},
     "output_type": "execute_result"
    }
   ],
   "source": [
    "cross_val_score(lr,x,y,cv=5).mean()"
   ]
  },
  {
   "cell_type": "code",
   "execution_count": 71,
   "metadata": {},
   "outputs": [
    {
     "data": {
      "text/plain": [
       "0.48840048636917316"
      ]
     },
     "execution_count": 71,
     "metadata": {},
     "output_type": "execute_result"
    }
   ],
   "source": [
    "cross_val_score(lsr,x,y,cv=5).mean()"
   ]
  },
  {
   "cell_type": "code",
   "execution_count": 72,
   "metadata": {},
   "outputs": [
    {
     "data": {
      "text/plain": [
       "0.4510370350942643"
      ]
     },
     "execution_count": 72,
     "metadata": {},
     "output_type": "execute_result"
    }
   ],
   "source": [
    "cross_val_score(rdr,x,y,cv=5).mean()"
   ]
  },
  {
   "cell_type": "code",
   "execution_count": 73,
   "metadata": {},
   "outputs": [
    {
     "data": {
      "text/plain": [
       "0.6657079832583929"
      ]
     },
     "execution_count": 73,
     "metadata": {},
     "output_type": "execute_result"
    }
   ],
   "source": [
    "cross_val_score(knn,x,y,cv=5).mean()"
   ]
  },
  {
   "cell_type": "code",
   "execution_count": 74,
   "metadata": {},
   "outputs": [
    {
     "data": {
      "text/plain": [
       "0.6788003501613876"
      ]
     },
     "execution_count": 74,
     "metadata": {},
     "output_type": "execute_result"
    }
   ],
   "source": [
    "cross_val_score(gb,x,y,cv=5).mean()"
   ]
  },
  {
   "cell_type": "markdown",
   "metadata": {},
   "source": [
    "in the process of cross validation we find that gradientboostingregressor is having heighest score so we select the gredientboostingregressor for the model"
   ]
  },
  {
   "cell_type": "markdown",
   "metadata": {},
   "source": [
    "# saving the model"
   ]
  },
  {
   "cell_type": "code",
   "execution_count": 75,
   "metadata": {},
   "outputs": [],
   "source": [
    "from sklearn.externals import joblib"
   ]
  },
  {
   "cell_type": "code",
   "execution_count": 76,
   "metadata": {},
   "outputs": [
    {
     "data": {
      "text/plain": [
       "['gb_model_covid_dataset.csv']"
      ]
     },
     "execution_count": 76,
     "metadata": {},
     "output_type": "execute_result"
    }
   ],
   "source": [
    "joblib.dump(gb,'gb_model_covid_dataset.csv')"
   ]
  },
  {
   "cell_type": "code",
   "execution_count": null,
   "metadata": {},
   "outputs": [],
   "source": []
  }
 ],
 "metadata": {
  "kernelspec": {
   "display_name": "Python 3",
   "language": "python",
   "name": "python3"
  },
  "language_info": {
   "codemirror_mode": {
    "name": "ipython",
    "version": 3
   },
   "file_extension": ".py",
   "mimetype": "text/x-python",
   "name": "python",
   "nbconvert_exporter": "python",
   "pygments_lexer": "ipython3",
   "version": "3.7.6"
  }
 },
 "nbformat": 4,
 "nbformat_minor": 4
}
